{
  "metadata": {
    "kernelspec": {
      "language": "python",
      "display_name": "Python 3",
      "name": "python3"
    },
    "language_info": {
      "pygments_lexer": "ipython3",
      "nbconvert_exporter": "python",
      "version": "3.6.4",
      "file_extension": ".py",
      "codemirror_mode": {
        "name": "ipython",
        "version": 3
      },
      "name": "python",
      "mimetype": "text/x-python"
    },
    "colab": {
      "name": "mlp-simples-com-keras-para-iniciantes.ipynb",
      "provenance": [],
      "include_colab_link": true
    }
  },
  "nbformat_minor": 0,
  "nbformat": 4,
  "cells": [
    {
      "cell_type": "markdown",
      "metadata": {
        "id": "view-in-github",
        "colab_type": "text"
      },
      "source": [
        "<a href=\"https://colab.research.google.com/github/edgallojr/deeplearning/blob/main/mlp-simples-com-keras-para-iniciantes.ipynb\" target=\"_parent\"><img src=\"https://colab.research.google.com/assets/colab-badge.svg\" alt=\"Open In Colab\"/></a>"
      ]
    },
    {
      "cell_type": "markdown",
      "source": [
        "# Introdução"
      ],
      "metadata": {
        "id": "U-0MambY6RKU"
      }
    },
    {
      "cell_type": "markdown",
      "source": [
        "**Resumo:**\n",
        "\n",
        "O exemplo aqui desenvolvido tem como objetivo apresentar conceitos iniciais de implementação de redes neurais com python e tensorflow/keras. Esse modelo apresenta um modelo MLP básico que pode ser expandido mudando o número de neurônios e camadas. Em adaptações mais avançadas, pode-se estudar possibilidade de otimização de hyperparâmetros e outras técnincas como aumento de dados.\n",
        "\n",
        "**Não é objetivo nosso desenvolver e otimizar o modelo de classificação**. O exemplo tem objetivo meramente didático.\n",
        "\n",
        "---\n",
        "\n",
        "**Para saber mais:**\n",
        "* [Palestras e cursos do Ocean](http://www.oceanbrasil.com/)\n",
        "* François Chollet. Deep Learning with Python. Manning Publications, 2017.\n",
        "* Ian Goodfellow and Yoshua Bengio and Aaron Courville. [Deep Learning](https://www.deeplearningbook.org/). MIT Press, 2016."
      ],
      "metadata": {
        "id": "4eltMyow6RKf"
      }
    },
    {
      "cell_type": "markdown",
      "source": [
        "# Bibliotecas e Dados"
      ],
      "metadata": {
        "id": "h4ztsSEM6RKi"
      }
    },
    {
      "cell_type": "code",
      "source": [
        "# Bibliotecas necessárias\n",
        "# Manipulação de dados\n",
        "import pandas as pd\n",
        "# Redes Neurais\n",
        "from tensorflow import keras\n",
        "from tensorflow.keras.datasets import mnist\n",
        "from tensorflow.keras.models import Sequential\n",
        "from tensorflow.keras.layers import Dense, Dropout\n",
        "from tensorflow.keras.optimizers import RMSprop\n",
        "# Plot\n",
        "import matplotlib.pyplot as plt\n",
        "%matplotlib inline\n",
        "# Avaliação\n",
        "from sklearn.metrics import classification_report, confusion_matrix"
      ],
      "metadata": {
        "ExecuteTime": {
          "end_time": "2019-01-16T20:39:41.500258Z",
          "start_time": "2019-01-16T20:39:39.261856Z"
        },
        "execution": {
          "iopub.status.busy": "2021-07-08T22:14:18.1226Z",
          "iopub.execute_input": "2021-07-08T22:14:18.12297Z",
          "iopub.status.idle": "2021-07-08T22:14:23.818782Z",
          "shell.execute_reply.started": "2021-07-08T22:14:18.122932Z",
          "shell.execute_reply": "2021-07-08T22:14:23.817975Z"
        },
        "trusted": true,
        "id": "uzTntNiG6RKk"
      },
      "execution_count": null,
      "outputs": []
    },
    {
      "cell_type": "code",
      "source": [
        "# Lendo o dataset Kaggle\n",
        "train = pd.read_csv(\"../input/digit-recognizer/train.csv\")\n",
        "\n",
        "#Alternativa ler do próprio keras\n",
        "#(x_train, y_train), (x_test, y_test) = mnist.load_data()\n"
      ],
      "metadata": {
        "execution": {
          "iopub.status.busy": "2021-07-08T22:14:54.20165Z",
          "iopub.execute_input": "2021-07-08T22:14:54.20252Z",
          "iopub.status.idle": "2021-07-08T22:14:57.894362Z",
          "shell.execute_reply.started": "2021-07-08T22:14:54.202468Z",
          "shell.execute_reply": "2021-07-08T22:14:57.893565Z"
        },
        "trusted": true,
        "id": "mMbeNI2L6RKo"
      },
      "execution_count": null,
      "outputs": []
    },
    {
      "cell_type": "code",
      "source": [
        "# Analisando o dataset\n",
        "print(\"Quantidade de elementos de treino: {}\". format(len(train)))\n",
        "print(train.head())"
      ],
      "metadata": {
        "execution": {
          "iopub.status.busy": "2021-07-08T22:15:06.485281Z",
          "iopub.execute_input": "2021-07-08T22:15:06.485658Z",
          "iopub.status.idle": "2021-07-08T22:15:06.501769Z",
          "shell.execute_reply.started": "2021-07-08T22:15:06.485629Z",
          "shell.execute_reply": "2021-07-08T22:15:06.500682Z"
        },
        "trusted": true,
        "id": "-nYh46eO6RKq"
      },
      "execution_count": null,
      "outputs": []
    },
    {
      "cell_type": "code",
      "source": [
        "# Separando x_train e y_train\n",
        "Y = train[\"label\"]\n",
        "X = train.drop(labels = [\"label\"],axis = 1)\n",
        "print(X.head())\n",
        "# Em formato numpy array de imagens 28 x 28\n",
        "#x = X.values.reshape(-1,28,28,1)\n",
        "#print(x[0])"
      ],
      "metadata": {
        "execution": {
          "iopub.status.busy": "2021-07-08T22:15:16.831058Z",
          "iopub.execute_input": "2021-07-08T22:15:16.831416Z",
          "iopub.status.idle": "2021-07-08T22:15:16.958055Z",
          "shell.execute_reply.started": "2021-07-08T22:15:16.831386Z",
          "shell.execute_reply": "2021-07-08T22:15:16.956698Z"
        },
        "trusted": true,
        "id": "cr6E6xwR6RKs"
      },
      "execution_count": null,
      "outputs": []
    },
    {
      "cell_type": "code",
      "source": [
        "print(Y)"
      ],
      "metadata": {
        "execution": {
          "iopub.status.busy": "2021-07-08T22:15:25.071849Z",
          "iopub.execute_input": "2021-07-08T22:15:25.072464Z",
          "iopub.status.idle": "2021-07-08T22:15:25.07999Z",
          "shell.execute_reply.started": "2021-07-08T22:15:25.072415Z",
          "shell.execute_reply": "2021-07-08T22:15:25.078919Z"
        },
        "trusted": true,
        "id": "nebhaVLN6RKu"
      },
      "execution_count": null,
      "outputs": []
    },
    {
      "cell_type": "code",
      "source": [
        "# Numtendi nada!\n",
        "# Bora ver com matplotlib\n",
        "plt.imshow(X.values[100].reshape(28,28), cmap=plt.cm.binary)\n",
        "plt.show()\n",
        "print('Label: {}'.format(Y[100]))"
      ],
      "metadata": {
        "ExecuteTime": {
          "end_time": "2019-01-08T20:49:47.144492Z",
          "start_time": "2019-01-08T20:49:47.016025Z"
        },
        "execution": {
          "iopub.status.busy": "2021-07-08T22:15:30.717027Z",
          "iopub.execute_input": "2021-07-08T22:15:30.717358Z",
          "iopub.status.idle": "2021-07-08T22:15:31.042475Z",
          "shell.execute_reply.started": "2021-07-08T22:15:30.717331Z",
          "shell.execute_reply": "2021-07-08T22:15:31.04134Z"
        },
        "trusted": true,
        "id": "mbpMgGKl6RKw"
      },
      "execution_count": null,
      "outputs": []
    },
    {
      "cell_type": "code",
      "source": [
        "# Transformando a imagem 2d em um numpy array (imagem 28*28 = 784 pixels)\n",
        "x = X.values.reshape(42000, 784)\n",
        "\n",
        "#Normalizando para valores entre 0 e 1\n",
        "x = x.astype('float32')\n",
        "x /= 255\n",
        "\n",
        "print(x[0])"
      ],
      "metadata": {
        "ExecuteTime": {
          "end_time": "2019-01-08T20:49:57.425537Z",
          "start_time": "2019-01-08T20:49:57.272377Z"
        },
        "execution": {
          "iopub.status.busy": "2021-07-08T22:15:38.102664Z",
          "iopub.execute_input": "2021-07-08T22:15:38.103061Z",
          "iopub.status.idle": "2021-07-08T22:15:38.204401Z",
          "shell.execute_reply.started": "2021-07-08T22:15:38.103025Z",
          "shell.execute_reply": "2021-07-08T22:15:38.203618Z"
        },
        "trusted": true,
        "id": "j1B9qr376RKx"
      },
      "execution_count": null,
      "outputs": []
    },
    {
      "cell_type": "code",
      "source": [
        "# Vamos ajustar o formato da saida\n",
        "num_classes = 10\n",
        "\n",
        "# Convertendo para um vetor de saida com 10 dimensoes\n",
        "# ex. 8 => [0,0,0,0,0,0,0,0,1,0]\n",
        "y = keras.utils.to_categorical(Y, num_classes)\n",
        "print(y[100])"
      ],
      "metadata": {
        "ExecuteTime": {
          "end_time": "2019-01-08T20:50:48.007428Z",
          "start_time": "2019-01-08T20:50:47.986527Z"
        },
        "execution": {
          "iopub.status.busy": "2021-07-08T22:15:53.502734Z",
          "iopub.execute_input": "2021-07-08T22:15:53.50314Z",
          "iopub.status.idle": "2021-07-08T22:15:53.510363Z",
          "shell.execute_reply.started": "2021-07-08T22:15:53.503103Z",
          "shell.execute_reply": "2021-07-08T22:15:53.509014Z"
        },
        "trusted": true,
        "id": "jMp8lHTb6RKy"
      },
      "execution_count": null,
      "outputs": []
    },
    {
      "cell_type": "code",
      "source": [
        "# Separando uma parte para treino (90%) e outra para validação (10%)\n",
        "from sklearn.model_selection import train_test_split\n",
        "x_train, x_val, y_train, y_val = train_test_split(x, y, test_size = 0.1, random_state=9)\n",
        "print('Qtde de treino: {}'.format(len(x_train)))\n",
        "print('Qtde de validação: {}'.format(len(x_val)))"
      ],
      "metadata": {
        "execution": {
          "iopub.status.busy": "2021-07-08T22:15:59.110009Z",
          "iopub.execute_input": "2021-07-08T22:15:59.110404Z",
          "iopub.status.idle": "2021-07-08T22:15:59.515355Z",
          "shell.execute_reply.started": "2021-07-08T22:15:59.110369Z",
          "shell.execute_reply": "2021-07-08T22:15:59.514003Z"
        },
        "trusted": true,
        "id": "B_N43OUe6RKz"
      },
      "execution_count": null,
      "outputs": []
    },
    {
      "cell_type": "markdown",
      "source": [
        "# Criando e treinando o Modelo"
      ],
      "metadata": {
        "id": "tAWjqll06RK1"
      }
    },
    {
      "cell_type": "code",
      "source": [
        "# Criando o modelo Sequential\n",
        "# Sequential: Modelo Keras de ir adicionando camadas (como um lego)\n",
        "# Dense: Camada onde todas as entradas estão conectadas em cada neurônio (totalmente conectada)\n",
        "# Dropout: Camada usa durante treino que descarta aleatoriamente um percentual de conexões (reduz overfitting)\n",
        "\n",
        "model = Sequential()\n",
        "# Camada com 30 neurônios\n",
        "model.add(Dense(30, activation='relu', input_shape=(784,)))\n",
        "# Dropout de 20%\n",
        "model.add(Dropout(0.2))\n",
        "# Camada de 20 neurônios\n",
        "model.add(Dense(20, activation='relu'))\n",
        "# Dropout de 20%\n",
        "model.add(Dropout(0.2))\n",
        "# Camda de classificação final, com 1 neurônio para cada classe de saída. Softmax divide a probabilidade de cada classe.\n",
        "model.add(Dense(num_classes, activation='softmax'))\n",
        "\n",
        "model.summary()"
      ],
      "metadata": {
        "ExecuteTime": {
          "end_time": "2019-01-08T21:38:00.233865Z",
          "start_time": "2019-01-08T21:38:00.15079Z"
        },
        "scrolled": true,
        "execution": {
          "iopub.status.busy": "2021-07-08T22:16:20.594662Z",
          "iopub.execute_input": "2021-07-08T22:16:20.595011Z",
          "iopub.status.idle": "2021-07-08T22:16:20.745197Z",
          "shell.execute_reply.started": "2021-07-08T22:16:20.594982Z",
          "shell.execute_reply": "2021-07-08T22:16:20.744262Z"
        },
        "trusted": true,
        "id": "Ni4v5kj66RK2"
      },
      "execution_count": null,
      "outputs": []
    },
    {
      "cell_type": "code",
      "source": [
        "# Compila o modelo\n",
        "model.compile(loss='categorical_crossentropy',\n",
        "              optimizer=RMSprop(),\n",
        "              metrics=['accuracy'])"
      ],
      "metadata": {
        "ExecuteTime": {
          "end_time": "2019-01-08T21:33:17.184644Z",
          "start_time": "2019-01-08T21:33:17.129141Z"
        },
        "execution": {
          "iopub.status.busy": "2021-07-08T22:16:38.317963Z",
          "iopub.execute_input": "2021-07-08T22:16:38.31832Z",
          "iopub.status.idle": "2021-07-08T22:16:38.354246Z",
          "shell.execute_reply.started": "2021-07-08T22:16:38.318292Z",
          "shell.execute_reply": "2021-07-08T22:16:38.353409Z"
        },
        "trusted": true,
        "id": "DfIUBn9S6RK3"
      },
      "execution_count": null,
      "outputs": []
    },
    {
      "cell_type": "code",
      "source": [
        "# Treina com os parte dos dados\n",
        "batch_size = 32\n",
        "epochs = 30\n",
        "history = model.fit(x_train, y_train,\n",
        "                    batch_size=batch_size,\n",
        "                    epochs=epochs,\n",
        "                    verbose=1,\n",
        "                    validation_data=(x_val, y_val))"
      ],
      "metadata": {
        "ExecuteTime": {
          "end_time": "2019-01-08T21:36:15.501168Z",
          "start_time": "2019-01-08T21:33:19.322895Z"
        },
        "execution": {
          "iopub.status.busy": "2021-07-08T22:16:42.410216Z",
          "iopub.execute_input": "2021-07-08T22:16:42.410617Z",
          "iopub.status.idle": "2021-07-08T22:17:46.576836Z",
          "shell.execute_reply.started": "2021-07-08T22:16:42.410584Z",
          "shell.execute_reply": "2021-07-08T22:17:46.575847Z"
        },
        "trusted": true,
        "id": "123px_al6RK3"
      },
      "execution_count": null,
      "outputs": []
    },
    {
      "cell_type": "code",
      "source": [
        "#Vamos ver como foi o treino?\n",
        "\n",
        "fig, ax = plt.subplots(1,2, figsize=(16,8))\n",
        "ax[0].plot(history.history['loss'], color='b', label=\"Training loss\")\n",
        "ax[0].plot(history.history['val_loss'], color='r', label=\"validation loss\",axes =ax[0])\n",
        "legend = ax[0].legend(loc='best', shadow=True)\n",
        "\n",
        "ax[1].plot(history.history['accuracy'], color='b', label=\"Training accuracy\")\n",
        "ax[1].plot(history.history['val_accuracy'], color='r',label=\"Validation accuracy\")\n",
        "legend = ax[1].legend(loc='best', shadow=True)"
      ],
      "metadata": {
        "ExecuteTime": {
          "end_time": "2019-01-08T21:36:20.243921Z",
          "start_time": "2019-01-08T21:36:20.064201Z"
        },
        "execution": {
          "iopub.status.busy": "2021-07-08T22:17:46.578847Z",
          "iopub.execute_input": "2021-07-08T22:17:46.579159Z",
          "iopub.status.idle": "2021-07-08T22:17:46.914737Z",
          "shell.execute_reply.started": "2021-07-08T22:17:46.579127Z",
          "shell.execute_reply": "2021-07-08T22:17:46.913679Z"
        },
        "trusted": true,
        "id": "sdRsO8sQ6RK4"
      },
      "execution_count": null,
      "outputs": []
    },
    {
      "cell_type": "code",
      "source": [
        "# Testa\n",
        "score = model.evaluate(x_val, y_val, verbose=0)\n",
        "print('Test loss:', score[0])\n",
        "print('Test accuracy:', score[1])"
      ],
      "metadata": {
        "ExecuteTime": {
          "end_time": "2019-01-08T21:36:39.779842Z",
          "start_time": "2019-01-08T21:36:38.946173Z"
        },
        "execution": {
          "iopub.status.busy": "2021-07-08T22:17:59.357392Z",
          "iopub.execute_input": "2021-07-08T22:17:59.357775Z",
          "iopub.status.idle": "2021-07-08T22:17:59.514802Z",
          "shell.execute_reply.started": "2021-07-08T22:17:59.357744Z",
          "shell.execute_reply": "2021-07-08T22:17:59.51388Z"
        },
        "trusted": true,
        "id": "2LryKL6d6RK6"
      },
      "execution_count": null,
      "outputs": []
    },
    {
      "cell_type": "code",
      "source": [
        "Y[10]"
      ],
      "metadata": {
        "execution": {
          "iopub.status.busy": "2021-07-08T22:18:09.494013Z",
          "iopub.execute_input": "2021-07-08T22:18:09.49437Z",
          "iopub.status.idle": "2021-07-08T22:18:09.501069Z",
          "shell.execute_reply.started": "2021-07-08T22:18:09.494341Z",
          "shell.execute_reply": "2021-07-08T22:18:09.500046Z"
        },
        "trusted": true,
        "id": "3qc0LjVS6RK7"
      },
      "execution_count": null,
      "outputs": []
    },
    {
      "cell_type": "code",
      "source": [
        "# Testando uma entrada qualquer\n",
        "print(y_train[10])\n",
        "print(model.predict(x_train[10].reshape((1,784))))\n",
        "print(model.predict_classes(x_train[10].reshape((1,784))))"
      ],
      "metadata": {
        "ExecuteTime": {
          "end_time": "2019-01-08T21:06:04.363715Z",
          "start_time": "2019-01-08T21:06:04.27849Z"
        },
        "execution": {
          "iopub.status.busy": "2021-07-08T22:18:14.678508Z",
          "iopub.execute_input": "2021-07-08T22:18:14.678917Z",
          "iopub.status.idle": "2021-07-08T22:18:14.771447Z",
          "shell.execute_reply.started": "2021-07-08T22:18:14.678887Z",
          "shell.execute_reply": "2021-07-08T22:18:14.770335Z"
        },
        "trusted": true,
        "id": "JNHBb8pL6RK7"
      },
      "execution_count": null,
      "outputs": []
    },
    {
      "cell_type": "markdown",
      "source": [
        "# Avaliando o Modelo"
      ],
      "metadata": {
        "id": "UvZVfvUf6RK8"
      }
    },
    {
      "cell_type": "code",
      "source": [
        "import itertools\n",
        "#Plot the confusion matrix. Set Normalize = True/False\n",
        "def plot_confusion_matrix(cm, classes, normalize=True, title='Confusion matrix', cmap=plt.cm.Blues):\n",
        "    \"\"\"\n",
        "    This function prints and plots the confusion matrix.\n",
        "    Normalization can be applied by setting `normalize=True`.\n",
        "    \"\"\"\n",
        "    plt.figure(figsize=(10,10))\n",
        "    plt.imshow(cm, interpolation='nearest', cmap=cmap)\n",
        "    plt.title(title)\n",
        "    plt.colorbar()\n",
        "    tick_marks = np.arange(len(classes))\n",
        "    plt.xticks(tick_marks, classes, rotation=45)\n",
        "    plt.yticks(tick_marks, classes)\n",
        "    if normalize:\n",
        "        cm = cm.astype('float') / cm.sum(axis=1)[:, np.newaxis]\n",
        "        cm = np.around(cm, decimals=2)\n",
        "        cm[np.isnan(cm)] = 0.0\n",
        "    thresh = cm.max() / 2.\n",
        "    for i, j in itertools.product(range(cm.shape[0]), range(cm.shape[1])):\n",
        "        plt.text(j, i, cm[i, j],\n",
        "                 horizontalalignment=\"center\",\n",
        "                 color=\"white\" if cm[i, j] > thresh else \"black\")\n",
        "    plt.tight_layout()\n",
        "    plt.ylabel('True label')\n",
        "    plt.xlabel('Predicted label')"
      ],
      "metadata": {
        "execution": {
          "iopub.status.busy": "2021-07-08T22:18:21.695087Z",
          "iopub.execute_input": "2021-07-08T22:18:21.695488Z",
          "iopub.status.idle": "2021-07-08T22:18:21.710042Z",
          "shell.execute_reply.started": "2021-07-08T22:18:21.695457Z",
          "shell.execute_reply": "2021-07-08T22:18:21.708608Z"
        },
        "trusted": true,
        "id": "jXqcr60r6RK9"
      },
      "execution_count": null,
      "outputs": []
    },
    {
      "cell_type": "code",
      "source": [
        "# Vendo alguns reports\n",
        "# Usando sklearn\n",
        "import numpy as np\n",
        "\n",
        "# Classificando toda base de teste\n",
        "y_pred = model.predict_classes(x_val)\n",
        "# voltando pro formato de classes\n",
        "y_test_c = np.argmax(y_val, axis=1)\n",
        "target_names = ['0', '1', '2', '3', '4', '5', '6', '7', '8', '9']\n",
        "\n",
        "#Confution Matrix\n",
        "cm = confusion_matrix(y_test_c, y_pred)\n",
        "plot_confusion_matrix(cm, target_names, normalize=False, title='Confusion Matrix')\n",
        "\n",
        "print('Classification Report')\n",
        "print(classification_report(y_test_c, y_pred, target_names=target_names))"
      ],
      "metadata": {
        "ExecuteTime": {
          "end_time": "2019-01-08T21:24:57.7654Z",
          "start_time": "2019-01-08T21:24:57.220867Z"
        },
        "execution": {
          "iopub.status.busy": "2021-07-08T22:18:30.265794Z",
          "iopub.execute_input": "2021-07-08T22:18:30.266301Z",
          "iopub.status.idle": "2021-07-08T22:18:31.015804Z",
          "shell.execute_reply.started": "2021-07-08T22:18:30.266266Z",
          "shell.execute_reply": "2021-07-08T22:18:31.014994Z"
        },
        "trusted": true,
        "id": "GnJI7DWT6RK9"
      },
      "execution_count": null,
      "outputs": []
    },
    {
      "cell_type": "markdown",
      "source": [
        "# Gerando Saída"
      ],
      "metadata": {
        "id": "TMWbzfBw6RK-"
      }
    },
    {
      "cell_type": "code",
      "source": [
        "# Gerando saída para dataset de teste\n",
        "\n",
        "#Carrega dataset de teste\n",
        "test = pd.read_csv(\"../input/digit-recognizer/test.csv\")\n",
        "print(\"Qtde de testes: {}\".format(len(test)))\n",
        "# Bota no formato numpy e normaliza\n",
        "x_test = test.values.reshape(len(test),784)\n",
        "x_test = x_test.astype('float32')\n",
        "x_test /= 255\n",
        "\n",
        "# Faz classificação para dataset de teste\n",
        "y_pred = model.predict_classes(x_test)\n",
        "\n",
        "# Verficando algum exemplo\n",
        "i = 0\n",
        "plt.imshow(test.values[i].reshape(28,28), cmap=plt.cm.binary)\n",
        "plt.show()\n",
        "print('Previsto: {}'.format(y_pred[i]))\n",
        "\n",
        "# Botando no formato de saída (competição Kaggle)\n",
        "results = pd.Series(y_pred,name=\"Label\")\n",
        "submission = pd.concat([pd.Series(range(1,len(y_pred)+1),name = \"ImageId\"),results],axis = 1)\n",
        "print(submission.head(10))\n",
        "#Salvando Arquivo\n",
        "submission.to_csv(\"mlp_mnist_v1.csv\",index=False)"
      ],
      "metadata": {
        "trusted": true,
        "id": "cfNL8hv66RK_"
      },
      "execution_count": null,
      "outputs": []
    },
    {
      "cell_type": "markdown",
      "source": [
        "# Teste Adicional: Com ruído"
      ],
      "metadata": {
        "id": "EUG-dnym6RK_"
      }
    },
    {
      "cell_type": "code",
      "source": [
        "#introduzindo ruido\n",
        "import numpy as np\n",
        "mean = 0.\n",
        "stddev = 0.2\n",
        "noise = np.random.normal(mean, stddev, (4200, 784))\n",
        "x_te = x_val + noise\n",
        "x_te = np.clip(x_te, 0., 1.)\n",
        "\n",
        "plt.imshow(x_te.reshape(4200, 28,28)[0], cmap=plt.cm.binary)\n",
        "plt.show()\n",
        "\n",
        "# Testa\n",
        "score = model.evaluate(x_te, y_val, verbose=0)\n",
        "print('Test loss:', score[0])\n",
        "print('Test accuracy:', score[1])"
      ],
      "metadata": {
        "trusted": true,
        "id": "dAJXrMY86RLA"
      },
      "execution_count": null,
      "outputs": []
    },
    {
      "cell_type": "markdown",
      "source": [
        "Com ruído, percebemos que a acurácia dos exemplos de validação caiu muito. \n",
        "Uma MLP aprende a partir de pixels individuais.\n",
        "Um modelo Convolucional (CNN) captura melhor regiões, ou padrões espaciais de pixels.\n",
        "Veja o exemplo com CNN."
      ],
      "metadata": {
        "id": "qRfMmC7T6RLA"
      }
    },
    {
      "cell_type": "code",
      "source": [
        ""
      ],
      "metadata": {
        "trusted": true,
        "id": "9Pb-JRh56RLB"
      },
      "execution_count": null,
      "outputs": []
    }
  ]
}